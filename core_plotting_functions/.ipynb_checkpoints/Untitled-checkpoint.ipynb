{
 "cells": [
  {
   "cell_type": "markdown",
   "id": "2540df05",
   "metadata": {},
   "source": [
    "# Core plotting functions\n",
    "\n",
    "Dataset from 10x containing 68k cells from PBMC. This dataset has been already preprocessed and UMAP computed\n",
    "\n",
    "literature markers\n",
    "    B-cell: CD79A, MS4A1\n",
    "    Plasma: IGJ (JCHAIN)\n",
    "    T-cell: CD3D\n",
    "    NK: GNLY, NKG7\n",
    "    Myeloid: CST3, LYZ\n",
    "    Monocytes: FCGR3A\n",
    "    Dendritic: FCER1A"
   ]
  },
  {
   "cell_type": "markdown",
   "id": "f0a5b29f",
   "metadata": {},
   "source": [
    "## Scatter plots for embeddings\n",
    "\n",
    "Scatter plots for tSNE, UMAP, and other embeddings are available with sc.pl.tsne, sc.pl.umap, etc. functions"
   ]
  },
  {
   "cell_type": "code",
   "execution_count": null,
   "id": "b764aa68",
   "metadata": {},
   "outputs": [],
   "source": [
    "import scanpy as sc \n",
    "import pandas as pd\n",
    "from matplotlib.pyplot import rc_context"
   ]
  },
  {
   "cell_type": "code",
   "execution_count": null,
   "id": "782af973",
   "metadata": {},
   "outputs": [],
   "source": []
  }
 ],
 "metadata": {
  "kernelspec": {
   "display_name": "Python 3 (ipykernel)",
   "language": "python",
   "name": "python3"
  },
  "language_info": {
   "codemirror_mode": {
    "name": "ipython",
    "version": 3
   },
   "file_extension": ".py",
   "mimetype": "text/x-python",
   "name": "python",
   "nbconvert_exporter": "python",
   "pygments_lexer": "ipython3",
   "version": "3.10.4"
  }
 },
 "nbformat": 4,
 "nbformat_minor": 5
}
